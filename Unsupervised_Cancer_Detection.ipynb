{
 "cells": [
  {
   "cell_type": "code",
   "execution_count": 26,
   "id": "2f0c2ed5",
   "metadata": {},
   "outputs": [],
   "source": [
    "import pandas as pd\n",
    "import numpy as np\n",
    "import matplotlib.pyplot as plt"
   ]
  },
  {
   "cell_type": "code",
   "execution_count": 14,
   "id": "3ff0dcd2",
   "metadata": {},
   "outputs": [],
   "source": [
    "df=\"C:/Users/TUF GAMING/Documents/HRC Laptop/Hackathon Notebook/Hackathon Notebook/Practice Notebook/Dataset/Cancer Dataset/data.csv\"\n",
    "label=\"C:/Users/TUF GAMING/Documents/HRC Laptop/Hackathon Notebook/Hackathon Notebook/Practice Notebook/Dataset/Cancer Dataset/labels.csv\""
   ]
  },
  {
   "cell_type": "code",
   "execution_count": 4,
   "id": "f25eeee6",
   "metadata": {},
   "outputs": [
    {
     "data": {
      "text/html": [
       "<div>\n",
       "<style scoped>\n",
       "    .dataframe tbody tr th:only-of-type {\n",
       "        vertical-align: middle;\n",
       "    }\n",
       "\n",
       "    .dataframe tbody tr th {\n",
       "        vertical-align: top;\n",
       "    }\n",
       "\n",
       "    .dataframe thead th {\n",
       "        text-align: right;\n",
       "    }\n",
       "</style>\n",
       "<table border=\"1\" class=\"dataframe\">\n",
       "  <thead>\n",
       "    <tr style=\"text-align: right;\">\n",
       "      <th></th>\n",
       "      <th>Unnamed: 0</th>\n",
       "      <th>gene_0</th>\n",
       "      <th>gene_1</th>\n",
       "      <th>gene_2</th>\n",
       "      <th>gene_3</th>\n",
       "      <th>gene_4</th>\n",
       "      <th>gene_5</th>\n",
       "      <th>gene_6</th>\n",
       "      <th>gene_7</th>\n",
       "      <th>gene_8</th>\n",
       "      <th>...</th>\n",
       "      <th>gene_20521</th>\n",
       "      <th>gene_20522</th>\n",
       "      <th>gene_20523</th>\n",
       "      <th>gene_20524</th>\n",
       "      <th>gene_20525</th>\n",
       "      <th>gene_20526</th>\n",
       "      <th>gene_20527</th>\n",
       "      <th>gene_20528</th>\n",
       "      <th>gene_20529</th>\n",
       "      <th>gene_20530</th>\n",
       "    </tr>\n",
       "  </thead>\n",
       "  <tbody>\n",
       "    <tr>\n",
       "      <th>0</th>\n",
       "      <td>sample_0</td>\n",
       "      <td>0.0</td>\n",
       "      <td>2.017209</td>\n",
       "      <td>3.265527</td>\n",
       "      <td>5.478487</td>\n",
       "      <td>10.431999</td>\n",
       "      <td>0.0</td>\n",
       "      <td>7.175175</td>\n",
       "      <td>0.591871</td>\n",
       "      <td>0.0</td>\n",
       "      <td>...</td>\n",
       "      <td>4.926711</td>\n",
       "      <td>8.210257</td>\n",
       "      <td>9.723516</td>\n",
       "      <td>7.220030</td>\n",
       "      <td>9.119813</td>\n",
       "      <td>12.003135</td>\n",
       "      <td>9.650743</td>\n",
       "      <td>8.921326</td>\n",
       "      <td>5.286759</td>\n",
       "      <td>0.000000</td>\n",
       "    </tr>\n",
       "    <tr>\n",
       "      <th>1</th>\n",
       "      <td>sample_1</td>\n",
       "      <td>0.0</td>\n",
       "      <td>0.592732</td>\n",
       "      <td>1.588421</td>\n",
       "      <td>7.586157</td>\n",
       "      <td>9.623011</td>\n",
       "      <td>0.0</td>\n",
       "      <td>6.816049</td>\n",
       "      <td>0.000000</td>\n",
       "      <td>0.0</td>\n",
       "      <td>...</td>\n",
       "      <td>4.593372</td>\n",
       "      <td>7.323865</td>\n",
       "      <td>9.740931</td>\n",
       "      <td>6.256586</td>\n",
       "      <td>8.381612</td>\n",
       "      <td>12.674552</td>\n",
       "      <td>10.517059</td>\n",
       "      <td>9.397854</td>\n",
       "      <td>2.094168</td>\n",
       "      <td>0.000000</td>\n",
       "    </tr>\n",
       "    <tr>\n",
       "      <th>2</th>\n",
       "      <td>sample_2</td>\n",
       "      <td>0.0</td>\n",
       "      <td>3.511759</td>\n",
       "      <td>4.327199</td>\n",
       "      <td>6.881787</td>\n",
       "      <td>9.870730</td>\n",
       "      <td>0.0</td>\n",
       "      <td>6.972130</td>\n",
       "      <td>0.452595</td>\n",
       "      <td>0.0</td>\n",
       "      <td>...</td>\n",
       "      <td>5.125213</td>\n",
       "      <td>8.127123</td>\n",
       "      <td>10.908640</td>\n",
       "      <td>5.401607</td>\n",
       "      <td>9.911597</td>\n",
       "      <td>9.045255</td>\n",
       "      <td>9.788359</td>\n",
       "      <td>10.090470</td>\n",
       "      <td>1.683023</td>\n",
       "      <td>0.000000</td>\n",
       "    </tr>\n",
       "    <tr>\n",
       "      <th>3</th>\n",
       "      <td>sample_3</td>\n",
       "      <td>0.0</td>\n",
       "      <td>3.663618</td>\n",
       "      <td>4.507649</td>\n",
       "      <td>6.659068</td>\n",
       "      <td>10.196184</td>\n",
       "      <td>0.0</td>\n",
       "      <td>7.843375</td>\n",
       "      <td>0.434882</td>\n",
       "      <td>0.0</td>\n",
       "      <td>...</td>\n",
       "      <td>6.076566</td>\n",
       "      <td>8.792959</td>\n",
       "      <td>10.141520</td>\n",
       "      <td>8.942805</td>\n",
       "      <td>9.601208</td>\n",
       "      <td>11.392682</td>\n",
       "      <td>9.694814</td>\n",
       "      <td>9.684365</td>\n",
       "      <td>3.292001</td>\n",
       "      <td>0.000000</td>\n",
       "    </tr>\n",
       "    <tr>\n",
       "      <th>4</th>\n",
       "      <td>sample_4</td>\n",
       "      <td>0.0</td>\n",
       "      <td>2.655741</td>\n",
       "      <td>2.821547</td>\n",
       "      <td>6.539454</td>\n",
       "      <td>9.738265</td>\n",
       "      <td>0.0</td>\n",
       "      <td>6.566967</td>\n",
       "      <td>0.360982</td>\n",
       "      <td>0.0</td>\n",
       "      <td>...</td>\n",
       "      <td>5.996032</td>\n",
       "      <td>8.891425</td>\n",
       "      <td>10.373790</td>\n",
       "      <td>7.181162</td>\n",
       "      <td>9.846910</td>\n",
       "      <td>11.922439</td>\n",
       "      <td>9.217749</td>\n",
       "      <td>9.461191</td>\n",
       "      <td>5.110372</td>\n",
       "      <td>0.000000</td>\n",
       "    </tr>\n",
       "    <tr>\n",
       "      <th>...</th>\n",
       "      <td>...</td>\n",
       "      <td>...</td>\n",
       "      <td>...</td>\n",
       "      <td>...</td>\n",
       "      <td>...</td>\n",
       "      <td>...</td>\n",
       "      <td>...</td>\n",
       "      <td>...</td>\n",
       "      <td>...</td>\n",
       "      <td>...</td>\n",
       "      <td>...</td>\n",
       "      <td>...</td>\n",
       "      <td>...</td>\n",
       "      <td>...</td>\n",
       "      <td>...</td>\n",
       "      <td>...</td>\n",
       "      <td>...</td>\n",
       "      <td>...</td>\n",
       "      <td>...</td>\n",
       "      <td>...</td>\n",
       "      <td>...</td>\n",
       "    </tr>\n",
       "    <tr>\n",
       "      <th>796</th>\n",
       "      <td>sample_796</td>\n",
       "      <td>0.0</td>\n",
       "      <td>1.865642</td>\n",
       "      <td>2.718197</td>\n",
       "      <td>7.350099</td>\n",
       "      <td>10.006003</td>\n",
       "      <td>0.0</td>\n",
       "      <td>6.764792</td>\n",
       "      <td>0.496922</td>\n",
       "      <td>0.0</td>\n",
       "      <td>...</td>\n",
       "      <td>6.088133</td>\n",
       "      <td>9.118313</td>\n",
       "      <td>10.004852</td>\n",
       "      <td>4.484415</td>\n",
       "      <td>9.614701</td>\n",
       "      <td>12.031267</td>\n",
       "      <td>9.813063</td>\n",
       "      <td>10.092770</td>\n",
       "      <td>8.819269</td>\n",
       "      <td>0.000000</td>\n",
       "    </tr>\n",
       "    <tr>\n",
       "      <th>797</th>\n",
       "      <td>sample_797</td>\n",
       "      <td>0.0</td>\n",
       "      <td>3.942955</td>\n",
       "      <td>4.453807</td>\n",
       "      <td>6.346597</td>\n",
       "      <td>10.056868</td>\n",
       "      <td>0.0</td>\n",
       "      <td>7.320331</td>\n",
       "      <td>0.000000</td>\n",
       "      <td>0.0</td>\n",
       "      <td>...</td>\n",
       "      <td>6.371876</td>\n",
       "      <td>9.623335</td>\n",
       "      <td>9.823921</td>\n",
       "      <td>6.555327</td>\n",
       "      <td>9.064002</td>\n",
       "      <td>11.633422</td>\n",
       "      <td>10.317266</td>\n",
       "      <td>8.745983</td>\n",
       "      <td>9.659081</td>\n",
       "      <td>0.000000</td>\n",
       "    </tr>\n",
       "    <tr>\n",
       "      <th>798</th>\n",
       "      <td>sample_798</td>\n",
       "      <td>0.0</td>\n",
       "      <td>3.249582</td>\n",
       "      <td>3.707492</td>\n",
       "      <td>8.185901</td>\n",
       "      <td>9.504082</td>\n",
       "      <td>0.0</td>\n",
       "      <td>7.536589</td>\n",
       "      <td>1.811101</td>\n",
       "      <td>0.0</td>\n",
       "      <td>...</td>\n",
       "      <td>5.719386</td>\n",
       "      <td>8.610704</td>\n",
       "      <td>10.485517</td>\n",
       "      <td>3.589763</td>\n",
       "      <td>9.350636</td>\n",
       "      <td>12.180944</td>\n",
       "      <td>10.681194</td>\n",
       "      <td>9.466711</td>\n",
       "      <td>4.677458</td>\n",
       "      <td>0.586693</td>\n",
       "    </tr>\n",
       "    <tr>\n",
       "      <th>799</th>\n",
       "      <td>sample_799</td>\n",
       "      <td>0.0</td>\n",
       "      <td>2.590339</td>\n",
       "      <td>2.787976</td>\n",
       "      <td>7.318624</td>\n",
       "      <td>9.987136</td>\n",
       "      <td>0.0</td>\n",
       "      <td>9.213464</td>\n",
       "      <td>0.000000</td>\n",
       "      <td>0.0</td>\n",
       "      <td>...</td>\n",
       "      <td>5.785237</td>\n",
       "      <td>8.605387</td>\n",
       "      <td>11.004677</td>\n",
       "      <td>4.745888</td>\n",
       "      <td>9.626383</td>\n",
       "      <td>11.198279</td>\n",
       "      <td>10.335513</td>\n",
       "      <td>10.400581</td>\n",
       "      <td>5.718751</td>\n",
       "      <td>0.000000</td>\n",
       "    </tr>\n",
       "    <tr>\n",
       "      <th>800</th>\n",
       "      <td>sample_800</td>\n",
       "      <td>0.0</td>\n",
       "      <td>2.325242</td>\n",
       "      <td>3.805932</td>\n",
       "      <td>6.530246</td>\n",
       "      <td>9.560367</td>\n",
       "      <td>0.0</td>\n",
       "      <td>7.957027</td>\n",
       "      <td>0.000000</td>\n",
       "      <td>0.0</td>\n",
       "      <td>...</td>\n",
       "      <td>6.403075</td>\n",
       "      <td>8.594354</td>\n",
       "      <td>10.243079</td>\n",
       "      <td>9.139459</td>\n",
       "      <td>10.102934</td>\n",
       "      <td>11.641081</td>\n",
       "      <td>10.607358</td>\n",
       "      <td>9.844794</td>\n",
       "      <td>4.550716</td>\n",
       "      <td>0.000000</td>\n",
       "    </tr>\n",
       "  </tbody>\n",
       "</table>\n",
       "<p>801 rows × 20532 columns</p>\n",
       "</div>"
      ],
      "text/plain": [
       "     Unnamed: 0  gene_0    gene_1    gene_2    gene_3     gene_4  gene_5  \\\n",
       "0      sample_0     0.0  2.017209  3.265527  5.478487  10.431999     0.0   \n",
       "1      sample_1     0.0  0.592732  1.588421  7.586157   9.623011     0.0   \n",
       "2      sample_2     0.0  3.511759  4.327199  6.881787   9.870730     0.0   \n",
       "3      sample_3     0.0  3.663618  4.507649  6.659068  10.196184     0.0   \n",
       "4      sample_4     0.0  2.655741  2.821547  6.539454   9.738265     0.0   \n",
       "..          ...     ...       ...       ...       ...        ...     ...   \n",
       "796  sample_796     0.0  1.865642  2.718197  7.350099  10.006003     0.0   \n",
       "797  sample_797     0.0  3.942955  4.453807  6.346597  10.056868     0.0   \n",
       "798  sample_798     0.0  3.249582  3.707492  8.185901   9.504082     0.0   \n",
       "799  sample_799     0.0  2.590339  2.787976  7.318624   9.987136     0.0   \n",
       "800  sample_800     0.0  2.325242  3.805932  6.530246   9.560367     0.0   \n",
       "\n",
       "       gene_6    gene_7  gene_8  ...  gene_20521  gene_20522  gene_20523  \\\n",
       "0    7.175175  0.591871     0.0  ...    4.926711    8.210257    9.723516   \n",
       "1    6.816049  0.000000     0.0  ...    4.593372    7.323865    9.740931   \n",
       "2    6.972130  0.452595     0.0  ...    5.125213    8.127123   10.908640   \n",
       "3    7.843375  0.434882     0.0  ...    6.076566    8.792959   10.141520   \n",
       "4    6.566967  0.360982     0.0  ...    5.996032    8.891425   10.373790   \n",
       "..        ...       ...     ...  ...         ...         ...         ...   \n",
       "796  6.764792  0.496922     0.0  ...    6.088133    9.118313   10.004852   \n",
       "797  7.320331  0.000000     0.0  ...    6.371876    9.623335    9.823921   \n",
       "798  7.536589  1.811101     0.0  ...    5.719386    8.610704   10.485517   \n",
       "799  9.213464  0.000000     0.0  ...    5.785237    8.605387   11.004677   \n",
       "800  7.957027  0.000000     0.0  ...    6.403075    8.594354   10.243079   \n",
       "\n",
       "     gene_20524  gene_20525  gene_20526  gene_20527  gene_20528  gene_20529  \\\n",
       "0      7.220030    9.119813   12.003135    9.650743    8.921326    5.286759   \n",
       "1      6.256586    8.381612   12.674552   10.517059    9.397854    2.094168   \n",
       "2      5.401607    9.911597    9.045255    9.788359   10.090470    1.683023   \n",
       "3      8.942805    9.601208   11.392682    9.694814    9.684365    3.292001   \n",
       "4      7.181162    9.846910   11.922439    9.217749    9.461191    5.110372   \n",
       "..          ...         ...         ...         ...         ...         ...   \n",
       "796    4.484415    9.614701   12.031267    9.813063   10.092770    8.819269   \n",
       "797    6.555327    9.064002   11.633422   10.317266    8.745983    9.659081   \n",
       "798    3.589763    9.350636   12.180944   10.681194    9.466711    4.677458   \n",
       "799    4.745888    9.626383   11.198279   10.335513   10.400581    5.718751   \n",
       "800    9.139459   10.102934   11.641081   10.607358    9.844794    4.550716   \n",
       "\n",
       "     gene_20530  \n",
       "0      0.000000  \n",
       "1      0.000000  \n",
       "2      0.000000  \n",
       "3      0.000000  \n",
       "4      0.000000  \n",
       "..          ...  \n",
       "796    0.000000  \n",
       "797    0.000000  \n",
       "798    0.586693  \n",
       "799    0.000000  \n",
       "800    0.000000  \n",
       "\n",
       "[801 rows x 20532 columns]"
      ]
     },
     "execution_count": 4,
     "metadata": {},
     "output_type": "execute_result"
    }
   ],
   "source": [
    "#df"
   ]
  },
  {
   "cell_type": "code",
   "execution_count": 9,
   "id": "f8a92bf3",
   "metadata": {},
   "outputs": [
    {
     "data": {
      "text/plain": [
       "Unnamed: 0    801\n",
       "Class           5\n",
       "dtype: int64"
      ]
     },
     "execution_count": 9,
     "metadata": {},
     "output_type": "execute_result"
    }
   ],
   "source": [
    "#label.nunique()"
   ]
  },
  {
   "cell_type": "code",
   "execution_count": null,
   "id": "1d9580d3",
   "metadata": {},
   "outputs": [],
   "source": [
    "# As only np.array formate data is feed into the algo hence converting dictionary data to np,array data"
   ]
  },
  {
   "cell_type": "code",
   "execution_count": 17,
   "id": "1daede66",
   "metadata": {},
   "outputs": [],
   "source": [
    "data = np.genfromtxt(\n",
    "     df,\n",
    "     delimiter=\",\",\n",
    "     usecols=range(1, 20532),\n",
    "     skip_header=1\n",
    " )\n",
    "\n",
    "true_label = np.genfromtxt(\n",
    "     label,\n",
    "     delimiter=\",\",\n",
    "     usecols=(1,),\n",
    "     skip_header=1,\n",
    "     dtype=\"str\"\n",
    " )"
   ]
  },
  {
   "cell_type": "code",
   "execution_count": 18,
   "id": "a6509b82",
   "metadata": {},
   "outputs": [
    {
     "data": {
      "text/plain": [
       "array([[ 0.        ,  2.01720929,  3.26552691, ...,  8.92132623,\n",
       "         5.28675919,  0.        ],\n",
       "       [ 0.        ,  0.59273209,  1.58842082, ...,  9.39785429,\n",
       "         2.09416849,  0.        ],\n",
       "       [ 0.        ,  3.51175898,  4.32719872, ..., 10.09046974,\n",
       "         1.68302267,  0.        ],\n",
       "       ...,\n",
       "       [ 0.        ,  3.24958187,  3.70749166, ...,  9.46671072,\n",
       "         4.6774575 ,  0.5866927 ],\n",
       "       [ 0.        ,  2.59033853,  2.78797567, ..., 10.40058062,\n",
       "         5.71875068,  0.        ],\n",
       "       [ 0.        ,  2.32524248,  3.80593214, ...,  9.84479363,\n",
       "         4.55071601,  0.        ]])"
      ]
     },
     "execution_count": 18,
     "metadata": {},
     "output_type": "execute_result"
    }
   ],
   "source": [
    "data"
   ]
  },
  {
   "cell_type": "code",
   "execution_count": 19,
   "id": "911f7f37",
   "metadata": {},
   "outputs": [
    {
     "data": {
      "text/plain": [
       "array(['PRAD', 'LUAD', 'PRAD', 'PRAD', 'BRCA', 'PRAD', 'KIRC', 'PRAD',\n",
       "       'BRCA', 'PRAD', 'BRCA', 'KIRC', 'PRAD', 'BRCA', 'BRCA', 'BRCA',\n",
       "       'LUAD', 'KIRC', 'KIRC', 'PRAD', 'BRCA', 'KIRC', 'LUAD', 'BRCA',\n",
       "       'KIRC', 'LUAD', 'COAD', 'BRCA', 'BRCA', 'BRCA', 'BRCA', 'BRCA',\n",
       "       'KIRC', 'BRCA', 'PRAD', 'BRCA', 'KIRC', 'LUAD', 'BRCA', 'BRCA',\n",
       "       'KIRC', 'PRAD', 'PRAD', 'KIRC', 'KIRC', 'BRCA', 'PRAD', 'COAD',\n",
       "       'BRCA', 'LUAD', 'BRCA', 'LUAD', 'BRCA', 'PRAD', 'COAD', 'BRCA',\n",
       "       'BRCA', 'COAD', 'KIRC', 'BRCA', 'LUAD', 'KIRC', 'BRCA', 'LUAD',\n",
       "       'PRAD', 'COAD', 'BRCA', 'PRAD', 'KIRC', 'BRCA', 'KIRC', 'BRCA',\n",
       "       'BRCA', 'LUAD', 'BRCA', 'LUAD', 'BRCA', 'KIRC', 'PRAD', 'COAD',\n",
       "       'BRCA', 'PRAD', 'BRCA', 'BRCA', 'PRAD', 'PRAD', 'BRCA', 'BRCA',\n",
       "       'KIRC', 'BRCA', 'PRAD', 'PRAD', 'BRCA', 'BRCA', 'BRCA', 'PRAD',\n",
       "       'COAD', 'BRCA', 'PRAD', 'BRCA', 'BRCA', 'KIRC', 'BRCA', 'KIRC',\n",
       "       'LUAD', 'KIRC', 'LUAD', 'COAD', 'LUAD', 'LUAD', 'PRAD', 'BRCA',\n",
       "       'LUAD', 'PRAD', 'BRCA', 'KIRC', 'KIRC', 'KIRC', 'BRCA', 'BRCA',\n",
       "       'LUAD', 'KIRC', 'LUAD', 'BRCA', 'PRAD', 'PRAD', 'PRAD', 'BRCA',\n",
       "       'KIRC', 'LUAD', 'COAD', 'BRCA', 'COAD', 'BRCA', 'BRCA', 'KIRC',\n",
       "       'LUAD', 'BRCA', 'KIRC', 'COAD', 'BRCA', 'PRAD', 'BRCA', 'KIRC',\n",
       "       'LUAD', 'COAD', 'PRAD', 'BRCA', 'LUAD', 'LUAD', 'LUAD', 'LUAD',\n",
       "       'BRCA', 'BRCA', 'LUAD', 'BRCA', 'BRCA', 'PRAD', 'PRAD', 'LUAD',\n",
       "       'PRAD', 'LUAD', 'KIRC', 'BRCA', 'PRAD', 'LUAD', 'COAD', 'KIRC',\n",
       "       'LUAD', 'BRCA', 'KIRC', 'LUAD', 'BRCA', 'LUAD', 'BRCA', 'BRCA',\n",
       "       'BRCA', 'PRAD', 'BRCA', 'KIRC', 'COAD', 'KIRC', 'BRCA', 'PRAD',\n",
       "       'PRAD', 'PRAD', 'LUAD', 'LUAD', 'BRCA', 'LUAD', 'LUAD', 'KIRC',\n",
       "       'LUAD', 'PRAD', 'LUAD', 'BRCA', 'BRCA', 'BRCA', 'LUAD', 'LUAD',\n",
       "       'BRCA', 'KIRC', 'KIRC', 'KIRC', 'KIRC', 'PRAD', 'BRCA', 'PRAD',\n",
       "       'BRCA', 'LUAD', 'LUAD', 'BRCA', 'PRAD', 'BRCA', 'PRAD', 'BRCA',\n",
       "       'BRCA', 'BRCA', 'LUAD', 'BRCA', 'KIRC', 'LUAD', 'KIRC', 'KIRC',\n",
       "       'LUAD', 'BRCA', 'KIRC', 'PRAD', 'BRCA', 'LUAD', 'LUAD', 'PRAD',\n",
       "       'COAD', 'BRCA', 'KIRC', 'PRAD', 'KIRC', 'COAD', 'BRCA', 'KIRC',\n",
       "       'KIRC', 'LUAD', 'PRAD', 'PRAD', 'LUAD', 'LUAD', 'KIRC', 'BRCA',\n",
       "       'BRCA', 'COAD', 'BRCA', 'PRAD', 'COAD', 'BRCA', 'PRAD', 'KIRC',\n",
       "       'PRAD', 'PRAD', 'PRAD', 'BRCA', 'COAD', 'COAD', 'LUAD', 'COAD',\n",
       "       'COAD', 'PRAD', 'LUAD', 'BRCA', 'BRCA', 'KIRC', 'KIRC', 'BRCA',\n",
       "       'COAD', 'PRAD', 'KIRC', 'PRAD', 'BRCA', 'BRCA', 'KIRC', 'BRCA',\n",
       "       'BRCA', 'BRCA', 'BRCA', 'LUAD', 'LUAD', 'BRCA', 'BRCA', 'BRCA',\n",
       "       'KIRC', 'KIRC', 'KIRC', 'KIRC', 'BRCA', 'BRCA', 'BRCA', 'KIRC',\n",
       "       'BRCA', 'BRCA', 'LUAD', 'PRAD', 'BRCA', 'BRCA', 'COAD', 'LUAD',\n",
       "       'PRAD', 'BRCA', 'BRCA', 'BRCA', 'COAD', 'BRCA', 'PRAD', 'BRCA',\n",
       "       'COAD', 'LUAD', 'LUAD', 'PRAD', 'KIRC', 'BRCA', 'KIRC', 'KIRC',\n",
       "       'LUAD', 'COAD', 'KIRC', 'BRCA', 'BRCA', 'BRCA', 'BRCA', 'KIRC',\n",
       "       'BRCA', 'BRCA', 'PRAD', 'BRCA', 'KIRC', 'BRCA', 'LUAD', 'PRAD',\n",
       "       'KIRC', 'BRCA', 'PRAD', 'COAD', 'BRCA', 'BRCA', 'BRCA', 'LUAD',\n",
       "       'LUAD', 'LUAD', 'BRCA', 'BRCA', 'PRAD', 'LUAD', 'BRCA', 'KIRC',\n",
       "       'BRCA', 'COAD', 'COAD', 'LUAD', 'BRCA', 'KIRC', 'BRCA', 'BRCA',\n",
       "       'BRCA', 'COAD', 'LUAD', 'COAD', 'KIRC', 'PRAD', 'KIRC', 'BRCA',\n",
       "       'BRCA', 'KIRC', 'BRCA', 'COAD', 'PRAD', 'LUAD', 'PRAD', 'BRCA',\n",
       "       'KIRC', 'PRAD', 'BRCA', 'COAD', 'KIRC', 'KIRC', 'COAD', 'COAD',\n",
       "       'PRAD', 'BRCA', 'BRCA', 'COAD', 'KIRC', 'BRCA', 'PRAD', 'BRCA',\n",
       "       'BRCA', 'BRCA', 'LUAD', 'LUAD', 'KIRC', 'LUAD', 'BRCA', 'KIRC',\n",
       "       'COAD', 'PRAD', 'BRCA', 'LUAD', 'PRAD', 'BRCA', 'BRCA', 'BRCA',\n",
       "       'LUAD', 'BRCA', 'BRCA', 'PRAD', 'BRCA', 'PRAD', 'COAD', 'BRCA',\n",
       "       'LUAD', 'BRCA', 'BRCA', 'LUAD', 'BRCA', 'BRCA', 'BRCA', 'KIRC',\n",
       "       'LUAD', 'PRAD', 'BRCA', 'PRAD', 'KIRC', 'BRCA', 'KIRC', 'COAD',\n",
       "       'BRCA', 'PRAD', 'LUAD', 'KIRC', 'BRCA', 'BRCA', 'KIRC', 'BRCA',\n",
       "       'LUAD', 'BRCA', 'BRCA', 'PRAD', 'COAD', 'BRCA', 'KIRC', 'LUAD',\n",
       "       'PRAD', 'BRCA', 'PRAD', 'BRCA', 'BRCA', 'BRCA', 'BRCA', 'KIRC',\n",
       "       'LUAD', 'BRCA', 'KIRC', 'BRCA', 'BRCA', 'LUAD', 'LUAD', 'KIRC',\n",
       "       'COAD', 'PRAD', 'COAD', 'BRCA', 'KIRC', 'KIRC', 'BRCA', 'PRAD',\n",
       "       'KIRC', 'COAD', 'LUAD', 'LUAD', 'BRCA', 'PRAD', 'PRAD', 'BRCA',\n",
       "       'PRAD', 'LUAD', 'KIRC', 'PRAD', 'BRCA', 'LUAD', 'PRAD', 'LUAD',\n",
       "       'BRCA', 'BRCA', 'COAD', 'LUAD', 'KIRC', 'COAD', 'LUAD', 'BRCA',\n",
       "       'PRAD', 'BRCA', 'BRCA', 'PRAD', 'BRCA', 'COAD', 'BRCA', 'COAD',\n",
       "       'KIRC', 'BRCA', 'BRCA', 'LUAD', 'LUAD', 'LUAD', 'COAD', 'KIRC',\n",
       "       'LUAD', 'LUAD', 'BRCA', 'BRCA', 'KIRC', 'PRAD', 'LUAD', 'PRAD',\n",
       "       'BRCA', 'KIRC', 'BRCA', 'KIRC', 'KIRC', 'PRAD', 'PRAD', 'LUAD',\n",
       "       'BRCA', 'KIRC', 'COAD', 'COAD', 'BRCA', 'KIRC', 'KIRC', 'BRCA',\n",
       "       'BRCA', 'PRAD', 'KIRC', 'COAD', 'BRCA', 'BRCA', 'COAD', 'LUAD',\n",
       "       'BRCA', 'BRCA', 'BRCA', 'KIRC', 'PRAD', 'LUAD', 'LUAD', 'BRCA',\n",
       "       'KIRC', 'COAD', 'KIRC', 'KIRC', 'BRCA', 'PRAD', 'LUAD', 'KIRC',\n",
       "       'BRCA', 'COAD', 'LUAD', 'LUAD', 'LUAD', 'PRAD', 'LUAD', 'KIRC',\n",
       "       'BRCA', 'BRCA', 'COAD', 'PRAD', 'BRCA', 'BRCA', 'BRCA', 'KIRC',\n",
       "       'LUAD', 'LUAD', 'BRCA', 'PRAD', 'LUAD', 'LUAD', 'BRCA', 'KIRC',\n",
       "       'PRAD', 'COAD', 'LUAD', 'PRAD', 'COAD', 'LUAD', 'COAD', 'KIRC',\n",
       "       'KIRC', 'BRCA', 'BRCA', 'KIRC', 'KIRC', 'COAD', 'BRCA', 'LUAD',\n",
       "       'PRAD', 'PRAD', 'KIRC', 'BRCA', 'LUAD', 'BRCA', 'BRCA', 'COAD',\n",
       "       'BRCA', 'PRAD', 'PRAD', 'BRCA', 'BRCA', 'COAD', 'BRCA', 'KIRC',\n",
       "       'BRCA', 'BRCA', 'COAD', 'BRCA', 'PRAD', 'BRCA', 'BRCA', 'KIRC',\n",
       "       'PRAD', 'LUAD', 'BRCA', 'BRCA', 'KIRC', 'BRCA', 'BRCA', 'BRCA',\n",
       "       'BRCA', 'BRCA', 'COAD', 'LUAD', 'LUAD', 'BRCA', 'BRCA', 'BRCA',\n",
       "       'PRAD', 'BRCA', 'BRCA', 'KIRC', 'LUAD', 'LUAD', 'KIRC', 'KIRC',\n",
       "       'LUAD', 'KIRC', 'COAD', 'BRCA', 'COAD', 'KIRC', 'BRCA', 'BRCA',\n",
       "       'PRAD', 'PRAD', 'PRAD', 'LUAD', 'PRAD', 'PRAD', 'COAD', 'BRCA',\n",
       "       'BRCA', 'COAD', 'LUAD', 'KIRC', 'BRCA', 'KIRC', 'COAD', 'BRCA',\n",
       "       'BRCA', 'BRCA', 'PRAD', 'LUAD', 'KIRC', 'BRCA', 'PRAD', 'KIRC',\n",
       "       'PRAD', 'BRCA', 'LUAD', 'KIRC', 'PRAD', 'LUAD', 'PRAD', 'PRAD',\n",
       "       'BRCA', 'KIRC', 'PRAD', 'LUAD', 'COAD', 'COAD', 'BRCA', 'BRCA',\n",
       "       'BRCA', 'LUAD', 'KIRC', 'KIRC', 'KIRC', 'BRCA', 'LUAD', 'KIRC',\n",
       "       'PRAD', 'BRCA', 'LUAD', 'PRAD', 'BRCA', 'PRAD', 'BRCA', 'KIRC',\n",
       "       'BRCA', 'COAD', 'PRAD', 'PRAD', 'KIRC', 'PRAD', 'KIRC', 'BRCA',\n",
       "       'LUAD', 'LUAD', 'BRCA', 'BRCA', 'KIRC', 'BRCA', 'BRCA', 'BRCA',\n",
       "       'BRCA', 'KIRC', 'KIRC', 'PRAD', 'COAD', 'KIRC', 'BRCA', 'BRCA',\n",
       "       'KIRC', 'BRCA', 'LUAD', 'BRCA', 'BRCA', 'PRAD', 'BRCA', 'PRAD',\n",
       "       'BRCA', 'COAD', 'BRCA', 'BRCA', 'KIRC', 'LUAD', 'BRCA', 'BRCA',\n",
       "       'PRAD', 'BRCA', 'PRAD', 'COAD', 'BRCA', 'BRCA', 'BRCA', 'LUAD',\n",
       "       'BRCA', 'LUAD', 'BRCA', 'LUAD', 'KIRC', 'KIRC', 'COAD', 'COAD',\n",
       "       'BRCA', 'BRCA', 'BRCA', 'LUAD', 'BRCA', 'LUAD', 'KIRC', 'BRCA',\n",
       "       'LUAD', 'KIRC', 'LUAD', 'LUAD', 'LUAD', 'KIRC', 'BRCA', 'PRAD',\n",
       "       'BRCA', 'BRCA', 'KIRC', 'BRCA', 'PRAD', 'KIRC', 'BRCA', 'BRCA',\n",
       "       'BRCA', 'BRCA', 'PRAD', 'LUAD', 'BRCA', 'LUAD', 'COAD', 'PRAD',\n",
       "       'PRAD'], dtype='<U4')"
      ]
     },
     "execution_count": 19,
     "metadata": {},
     "output_type": "execute_result"
    }
   ],
   "source": [
    "true_label"
   ]
  },
  {
   "cell_type": "code",
   "execution_count": 20,
   "id": "a6d75cee",
   "metadata": {},
   "outputs": [],
   "source": [
    "from sklearn.preprocessing import LabelEncoder, MinMaxScaler"
   ]
  },
  {
   "cell_type": "code",
   "execution_count": 21,
   "id": "a1d98357",
   "metadata": {},
   "outputs": [],
   "source": [
    "label_encoder = LabelEncoder()\n",
    "true_labels = label_encoder.fit_transform(true_label)"
   ]
  },
  {
   "cell_type": "code",
   "execution_count": 22,
   "id": "3285ea06",
   "metadata": {},
   "outputs": [
    {
     "data": {
      "text/plain": [
       "array([4, 3, 4, 4, 0, 4, 2, 4, 0, 4, 0, 2, 4, 0, 0, 0, 3, 2, 2, 4, 0, 2,\n",
       "       3, 0, 2, 3, 1, 0, 0, 0, 0, 0, 2, 0, 4, 0, 2, 3, 0, 0, 2, 4, 4, 2,\n",
       "       2, 0, 4, 1, 0, 3, 0, 3, 0, 4, 1, 0, 0, 1, 2, 0, 3, 2, 0, 3, 4, 1,\n",
       "       0, 4, 2, 0, 2, 0, 0, 3, 0, 3, 0, 2, 4, 1, 0, 4, 0, 0, 4, 4, 0, 0,\n",
       "       2, 0, 4, 4, 0, 0, 0, 4, 1, 0, 4, 0, 0, 2, 0, 2, 3, 2, 3, 1, 3, 3,\n",
       "       4, 0, 3, 4, 0, 2, 2, 2, 0, 0, 3, 2, 3, 0, 4, 4, 4, 0, 2, 3, 1, 0,\n",
       "       1, 0, 0, 2, 3, 0, 2, 1, 0, 4, 0, 2, 3, 1, 4, 0, 3, 3, 3, 3, 0, 0,\n",
       "       3, 0, 0, 4, 4, 3, 4, 3, 2, 0, 4, 3, 1, 2, 3, 0, 2, 3, 0, 3, 0, 0,\n",
       "       0, 4, 0, 2, 1, 2, 0, 4, 4, 4, 3, 3, 0, 3, 3, 2, 3, 4, 3, 0, 0, 0,\n",
       "       3, 3, 0, 2, 2, 2, 2, 4, 0, 4, 0, 3, 3, 0, 4, 0, 4, 0, 0, 0, 3, 0,\n",
       "       2, 3, 2, 2, 3, 0, 2, 4, 0, 3, 3, 4, 1, 0, 2, 4, 2, 1, 0, 2, 2, 3,\n",
       "       4, 4, 3, 3, 2, 0, 0, 1, 0, 4, 1, 0, 4, 2, 4, 4, 4, 0, 1, 1, 3, 1,\n",
       "       1, 4, 3, 0, 0, 2, 2, 0, 1, 4, 2, 4, 0, 0, 2, 0, 0, 0, 0, 3, 3, 0,\n",
       "       0, 0, 2, 2, 2, 2, 0, 0, 0, 2, 0, 0, 3, 4, 0, 0, 1, 3, 4, 0, 0, 0,\n",
       "       1, 0, 4, 0, 1, 3, 3, 4, 2, 0, 2, 2, 3, 1, 2, 0, 0, 0, 0, 2, 0, 0,\n",
       "       4, 0, 2, 0, 3, 4, 2, 0, 4, 1, 0, 0, 0, 3, 3, 3, 0, 0, 4, 3, 0, 2,\n",
       "       0, 1, 1, 3, 0, 2, 0, 0, 0, 1, 3, 1, 2, 4, 2, 0, 0, 2, 0, 1, 4, 3,\n",
       "       4, 0, 2, 4, 0, 1, 2, 2, 1, 1, 4, 0, 0, 1, 2, 0, 4, 0, 0, 0, 3, 3,\n",
       "       2, 3, 0, 2, 1, 4, 0, 3, 4, 0, 0, 0, 3, 0, 0, 4, 0, 4, 1, 0, 3, 0,\n",
       "       0, 3, 0, 0, 0, 2, 3, 4, 0, 4, 2, 0, 2, 1, 0, 4, 3, 2, 0, 0, 2, 0,\n",
       "       3, 0, 0, 4, 1, 0, 2, 3, 4, 0, 4, 0, 0, 0, 0, 2, 3, 0, 2, 0, 0, 3,\n",
       "       3, 2, 1, 4, 1, 0, 2, 2, 0, 4, 2, 1, 3, 3, 0, 4, 4, 0, 4, 3, 2, 4,\n",
       "       0, 3, 4, 3, 0, 0, 1, 3, 2, 1, 3, 0, 4, 0, 0, 4, 0, 1, 0, 1, 2, 0,\n",
       "       0, 3, 3, 3, 1, 2, 3, 3, 0, 0, 2, 4, 3, 4, 0, 2, 0, 2, 2, 4, 4, 3,\n",
       "       0, 2, 1, 1, 0, 2, 2, 0, 0, 4, 2, 1, 0, 0, 1, 3, 0, 0, 0, 2, 4, 3,\n",
       "       3, 0, 2, 1, 2, 2, 0, 4, 3, 2, 0, 1, 3, 3, 3, 4, 3, 2, 0, 0, 1, 4,\n",
       "       0, 0, 0, 2, 3, 3, 0, 4, 3, 3, 0, 2, 4, 1, 3, 4, 1, 3, 1, 2, 2, 0,\n",
       "       0, 2, 2, 1, 0, 3, 4, 4, 2, 0, 3, 0, 0, 1, 0, 4, 4, 0, 0, 1, 0, 2,\n",
       "       0, 0, 1, 0, 4, 0, 0, 2, 4, 3, 0, 0, 2, 0, 0, 0, 0, 0, 1, 3, 3, 0,\n",
       "       0, 0, 4, 0, 0, 2, 3, 3, 2, 2, 3, 2, 1, 0, 1, 2, 0, 0, 4, 4, 4, 3,\n",
       "       4, 4, 1, 0, 0, 1, 3, 2, 0, 2, 1, 0, 0, 0, 4, 3, 2, 0, 4, 2, 4, 0,\n",
       "       3, 2, 4, 3, 4, 4, 0, 2, 4, 3, 1, 1, 0, 0, 0, 3, 2, 2, 2, 0, 3, 2,\n",
       "       4, 0, 3, 4, 0, 4, 0, 2, 0, 1, 4, 4, 2, 4, 2, 0, 3, 3, 0, 0, 2, 0,\n",
       "       0, 0, 0, 2, 2, 4, 1, 2, 0, 0, 2, 0, 3, 0, 0, 4, 0, 4, 0, 1, 0, 0,\n",
       "       2, 3, 0, 0, 4, 0, 4, 1, 0, 0, 0, 3, 0, 3, 0, 3, 2, 2, 1, 1, 0, 0,\n",
       "       0, 3, 0, 3, 2, 0, 3, 2, 3, 3, 3, 2, 0, 4, 0, 0, 2, 0, 4, 2, 0, 0,\n",
       "       0, 0, 4, 3, 0, 3, 1, 4, 4], dtype=int64)"
      ]
     },
     "execution_count": 22,
     "metadata": {},
     "output_type": "execute_result"
    }
   ],
   "source": [
    "true_labels"
   ]
  },
  {
   "cell_type": "code",
   "execution_count": 23,
   "id": "6104725b",
   "metadata": {},
   "outputs": [
    {
     "data": {
      "text/plain": [
       "array(['BRCA', 'COAD', 'KIRC', 'LUAD', 'PRAD'], dtype='<U4')"
      ]
     },
     "execution_count": 23,
     "metadata": {},
     "output_type": "execute_result"
    }
   ],
   "source": [
    "label_encoder.classes_"
   ]
  },
  {
   "cell_type": "code",
   "execution_count": 25,
   "id": "d8598378",
   "metadata": {},
   "outputs": [],
   "source": [
    "n_clusters=len(label_encoder.classes_)"
   ]
  },
  {
   "cell_type": "code",
   "execution_count": 30,
   "id": "14f2db1c",
   "metadata": {},
   "outputs": [
    {
     "data": {
      "text/plain": [
       "(array([[801.,   0.,   0., ...,   0.,   0.,   0.],\n",
       "        [167., 505., 128., ...,   0.,   0.,   0.],\n",
       "        [135., 545., 121., ...,   0.,   0.,   0.],\n",
       "        ...,\n",
       "        [  0.,   0.,   0., ...,   0.,   0.,   0.],\n",
       "        [ 22., 186., 348., ...,   0.,   0.,   0.],\n",
       "        [798.,   1.,   2., ...,   0.,   0.,   0.]]),\n",
       " array([ 0.        ,  2.07788287,  4.15576574,  6.23364861,  8.31153148,\n",
       "        10.38941436, 12.46729723, 14.5451801 , 16.62306297, 18.70094584,\n",
       "        20.77882871]),\n",
       " <a list of 20531 BarContainer objects>)"
      ]
     },
     "execution_count": 30,
     "metadata": {},
     "output_type": "execute_result"
    },
    {
     "data": {
      "image/png": "[encoded data removed]",
      "text/plain": [
       "<Figure size 640x480 with 1 Axes>"
      ]
     },
     "metadata": {},
     "output_type": "display_data"
    }
   ],
   "source": [
    "plt.hist(data)"
   ]
  },
  {
   "cell_type": "code",
   "execution_count": 41,
   "id": "938bfb12",
   "metadata": {},
   "outputs": [],
   "source": [
    "#Looking at the above graph its clear that the data is not a normal distribution curve hence we will use minmax scaling"
   ]
  },
  {
   "cell_type": "code",
   "execution_count": 40,
   "id": "389cc6d0",
   "metadata": {},
   "outputs": [
    {
     "data": {
      "text/plain": [
       "(array([300.,   0.,  78.,   0.,   0., 146.,   0., 141.,   0., 136.]),\n",
       " array([0. , 0.4, 0.8, 1.2, 1.6, 2. , 2.4, 2.8, 3.2, 3.6, 4. ]),\n",
       " <BarContainer object of 10 artists>)"
      ]
     },
     "execution_count": 40,
     "metadata": {},
     "output_type": "execute_result"
    },
    {
     "data": {
      "image/png": "[encoded data removed]",
      "text/plain": [
       "<Figure size 640x480 with 1 Axes>"
      ]
     },
     "metadata": {},
     "output_type": "display_data"
    }
   ],
   "source": [
    "plt.hist(true_labels,10)"
   ]
  },
  {
   "cell_type": "code",
   "execution_count": 58,
   "id": "996b84ed",
   "metadata": {},
   "outputs": [],
   "source": [
    "# trans = MinMaxScaler()\n",
    "# scaled_data = trans.fit_transform(data)"
   ]
  },
  {
   "cell_type": "code",
   "execution_count": 63,
   "id": "cd6992fc",
   "metadata": {},
   "outputs": [
    {
     "data": {
      "text/plain": [
       "1.0000000000000004"
      ]
     },
     "execution_count": 63,
     "metadata": {},
     "output_type": "execute_result"
    }
   ],
   "source": [
    "#scaled_data.max()"
   ]
  },
  {
   "cell_type": "code",
   "execution_count": 64,
   "id": "c5f47296",
   "metadata": {},
   "outputs": [
    {
     "data": {
      "text/plain": [
       "0.0"
      ]
     },
     "execution_count": 64,
     "metadata": {},
     "output_type": "execute_result"
    }
   ],
   "source": [
    "#scaled_data.min()"
   ]
  },
  {
   "cell_type": "code",
   "execution_count": 57,
   "id": "53452c99",
   "metadata": {},
   "outputs": [
    {
     "data": {
      "text/plain": [
       "(array([[766.,   1.,  10., ...,   0.,   2.,   1.],\n",
       "        [ 34.,  37.,  57., ...,  69.,  16.,   5.],\n",
       "        [  8.,  22.,  58., ...,  71.,  28.,  12.],\n",
       "        ...,\n",
       "        [ 15.,  44., 193., ...,   2.,   1.,   1.],\n",
       "        [ 11.,  44., 104., ...,  78.,  45.,   8.],\n",
       "        [743.,  45.,   6., ...,   2.,   0.,   1.]]),\n",
       " array([0. , 0.1, 0.2, 0.3, 0.4, 0.5, 0.6, 0.7, 0.8, 0.9, 1. ]),\n",
       " <a list of 20531 BarContainer objects>)"
      ]
     },
     "execution_count": 57,
     "metadata": {},
     "output_type": "execute_result"
    },
    {
     "data": {
      "image/png": "[encoded data removed]",
      "text/plain": [
       "<Figure size 640x480 with 1 Axes>"
      ]
     },
     "metadata": {},
     "output_type": "display_data"
    }
   ],
   "source": [
    "#plt.hist(scaled_data)"
   ]
  },
  {
   "cell_type": "code",
   "execution_count": 97,
   "id": "6581d034",
   "metadata": {},
   "outputs": [],
   "source": [
    "from sklearn.pipeline import Pipeline\n",
    "from sklearn.decomposition import PCA\n",
    "preprocessor = Pipeline(\n",
    "    [\n",
    "        (\"scaler\", MinMaxScaler()),\n",
    "        (\"pca\", PCA(n_components=2, random_state=42)),\n",
    "    ]\n",
    ")"
   ]
  },
  {
   "cell_type": "code",
   "execution_count": 67,
   "id": "25f619a3",
   "metadata": {},
   "outputs": [],
   "source": [
    "from sklearn.cluster import KMeans\n",
    "clusterer = Pipeline(\n",
    "   [\n",
    "       (\n",
    "           \"kmeans\",\n",
    "           KMeans(\n",
    "               n_clusters=n_clusters,\n",
    "               init=\"k-means++\",\n",
    "               n_init=50,\n",
    "               max_iter=500,\n",
    "               random_state=42,\n",
    "           ),\n",
    "       ),\n",
    "   ]\n",
    ")"
   ]
  },
  {
   "cell_type": "code",
   "execution_count": 98,
   "id": "6d6fea62",
   "metadata": {},
   "outputs": [],
   "source": [
    "pipe = Pipeline(\n",
    "    [\n",
    "        (\"preprocessor\", preprocessor),\n",
    "        (\"clusterer\", clusterer)\n",
    "    ]\n",
    ")"
   ]
  },
  {
   "cell_type": "code",
   "execution_count": 99,
   "id": "a5814227",
   "metadata": {},
   "outputs": [
    {
     "name": "stderr",
     "output_type": "stream",
     "text": [
      "D:\\Anaconda\\lib\\site-packages\\sklearn\\cluster\\_kmeans.py:1382: UserWarning: KMeans is known to have a memory leak on Windows with MKL, when there are less chunks than available threads. You can avoid it by setting the environment variable OMP_NUM_THREADS=4.\n",
      "  warnings.warn(\n"
     ]
    },
    {
     "data": {
      "text/html": [
       "<style>#sk-container-id-5 {color: black;background-color: white;}#sk-container-id-5 pre{padding: 0;}#sk-container-id-5 div.sk-toggleable {background-color: white;}#sk-container-id-5 label.sk-toggleable__label {cursor: pointer;display: block;width: 100%;margin-bottom: 0;padding: 0.3em;box-sizing: border-box;text-align: center;}#sk-container-id-5 label.sk-toggleable__label-arrow:before {content: \"▸\";float: left;margin-right: 0.25em;color: #696969;}#sk-container-id-5 label.sk-toggleable__label-arrow:hover:before {color: black;}#sk-container-id-5 div.sk-estimator:hover label.sk-toggleable__label-arrow:before {color: black;}#sk-container-id-5 div.sk-toggleable__content {max-height: 0;max-width: 0;overflow: hidden;text-align: left;background-color: #f0f8ff;}#sk-container-id-5 div.sk-toggleable__content pre {margin: 0.2em;color: black;border-radius: 0.25em;background-color: #f0f8ff;}#sk-container-id-5 input.sk-toggleable__control:checked~div.sk-toggleable__content {max-height: 200px;max-width: 100%;overflow: auto;}#sk-container-id-5 input.sk-toggleable__control:checked~label.sk-toggleable__label-arrow:before {content: \"▾\";}#sk-container-id-5 div.sk-estimator input.sk-toggleable__control:checked~label.sk-toggleable__label {background-color: #d4ebff;}#sk-container-id-5 div.sk-label input.sk-toggleable__control:checked~label.sk-toggleable__label {background-color: #d4ebff;}#sk-container-id-5 input.sk-hidden--visually {border: 0;clip: rect(1px 1px 1px 1px);clip: rect(1px, 1px, 1px, 1px);height: 1px;margin: -1px;overflow: hidden;padding: 0;position: absolute;width: 1px;}#sk-container-id-5 div.sk-estimator {font-family: monospace;background-color: #f0f8ff;border: 1px dotted black;border-radius: 0.25em;box-sizing: border-box;margin-bottom: 0.5em;}#sk-container-id-5 div.sk-estimator:hover {background-color: #d4ebff;}#sk-container-id-5 div.sk-parallel-item::after {content: \"\";width: 100%;border-bottom: 1px solid gray;flex-grow: 1;}#sk-container-id-5 div.sk-label:hover label.sk-toggleable__label {background-color: #d4ebff;}#sk-container-id-5 div.sk-serial::before {content: \"\";position: absolute;border-left: 1px solid gray;box-sizing: border-box;top: 0;bottom: 0;left: 50%;z-index: 0;}#sk-container-id-5 div.sk-serial {display: flex;flex-direction: column;align-items: center;background-color: white;padding-right: 0.2em;padding-left: 0.2em;position: relative;}#sk-container-id-5 div.sk-item {position: relative;z-index: 1;}#sk-container-id-5 div.sk-parallel {display: flex;align-items: stretch;justify-content: center;background-color: white;position: relative;}#sk-container-id-5 div.sk-item::before, #sk-container-id-5 div.sk-parallel-item::before {content: \"\";position: absolute;border-left: 1px solid gray;box-sizing: border-box;top: 0;bottom: 0;left: 50%;z-index: -1;}#sk-container-id-5 div.sk-parallel-item {display: flex;flex-direction: column;z-index: 1;position: relative;background-color: white;}#sk-container-id-5 div.sk-parallel-item:first-child::after {align-self: flex-end;width: 50%;}#sk-container-id-5 div.sk-parallel-item:last-child::after {align-self: flex-start;width: 50%;}#sk-container-id-5 div.sk-parallel-item:only-child::after {width: 0;}#sk-container-id-5 div.sk-dashed-wrapped {border: 1px dashed gray;margin: 0 0.4em 0.5em 0.4em;box-sizing: border-box;padding-bottom: 0.4em;background-color: white;}#sk-container-id-5 div.sk-label label {font-family: monospace;font-weight: bold;display: inline-block;line-height: 1.2em;}#sk-container-id-5 div.sk-label-container {text-align: center;}#sk-container-id-5 div.sk-container {/* jupyter's `normalize.less` sets `[hidden] { display: none; }` but bootstrap.min.css set `[hidden] { display: none !important; }` so we also need the `!important` here to be able to override the default hidden behavior on the sphinx rendered scikit-learn.org. See: https://github.com/scikit-learn/scikit-learn/issues/21755 */display: inline-block !important;position: relative;}#sk-container-id-5 div.sk-text-repr-fallback {display: none;}</style><div id=\"sk-container-id-5\" class=\"sk-top-container\"><div class=\"sk-text-repr-fallback\"><pre>Pipeline(steps=[(&#x27;preprocessor&#x27;,\n",
       "                 Pipeline(steps=[(&#x27;scaler&#x27;, MinMaxScaler()),\n",
       "                                 (&#x27;pca&#x27;,\n",
       "                                  PCA(n_components=2, random_state=42))])),\n",
       "                (&#x27;clusterer&#x27;,\n",
       "                 Pipeline(steps=[(&#x27;kmeans&#x27;,\n",
       "                                  KMeans(max_iter=500, n_clusters=5, n_init=50,\n",
       "                                         random_state=42))]))])</pre><b>In a Jupyter environment, please rerun this cell to show the HTML representation or trust the notebook. <br />On GitHub, the HTML representation is unable to render, please try loading this page with nbviewer.org.</b></div><div class=\"sk-container\" hidden><div class=\"sk-item sk-dashed-wrapped\"><div class=\"sk-label-container\"><div class=\"sk-label sk-toggleable\"><input class=\"sk-toggleable__control sk-hidden--visually\" id=\"sk-estimator-id-19\" type=\"checkbox\" ><label for=\"sk-estimator-id-19\" class=\"sk-toggleable__label sk-toggleable__label-arrow\">Pipeline</label><div class=\"sk-toggleable__content\"><pre>Pipeline(steps=[(&#x27;preprocessor&#x27;,\n",
       "                 Pipeline(steps=[(&#x27;scaler&#x27;, MinMaxScaler()),\n",
       "                                 (&#x27;pca&#x27;,\n",
       "                                  PCA(n_components=2, random_state=42))])),\n",
       "                (&#x27;clusterer&#x27;,\n",
       "                 Pipeline(steps=[(&#x27;kmeans&#x27;,\n",
       "                                  KMeans(max_iter=500, n_clusters=5, n_init=50,\n",
       "                                         random_state=42))]))])</pre></div></div></div><div class=\"sk-serial\"><div class=\"sk-item\"><div class=\"sk-label-container\"><div class=\"sk-label sk-toggleable\"><input class=\"sk-toggleable__control sk-hidden--visually\" id=\"sk-estimator-id-20\" type=\"checkbox\" ><label for=\"sk-estimator-id-20\" class=\"sk-toggleable__label sk-toggleable__label-arrow\">preprocessor: Pipeline</label><div class=\"sk-toggleable__content\"><pre>Pipeline(steps=[(&#x27;scaler&#x27;, MinMaxScaler()),\n",
       "                (&#x27;pca&#x27;, PCA(n_components=2, random_state=42))])</pre></div></div></div><div class=\"sk-serial\"><div class=\"sk-item\"><div class=\"sk-estimator sk-toggleable\"><input class=\"sk-toggleable__control sk-hidden--visually\" id=\"sk-estimator-id-21\" type=\"checkbox\" ><label for=\"sk-estimator-id-21\" class=\"sk-toggleable__label sk-toggleable__label-arrow\">MinMaxScaler</label><div class=\"sk-toggleable__content\"><pre>MinMaxScaler()</pre></div></div></div><div class=\"sk-item\"><div class=\"sk-estimator sk-toggleable\"><input class=\"sk-toggleable__control sk-hidden--visually\" id=\"sk-estimator-id-22\" type=\"checkbox\" ><label for=\"sk-estimator-id-22\" class=\"sk-toggleable__label sk-toggleable__label-arrow\">PCA</label><div class=\"sk-toggleable__content\"><pre>PCA(n_components=2, random_state=42)</pre></div></div></div></div></div><div class=\"sk-item\"><div class=\"sk-label-container\"><div class=\"sk-label sk-toggleable\"><input class=\"sk-toggleable__control sk-hidden--visually\" id=\"sk-estimator-id-23\" type=\"checkbox\" ><label for=\"sk-estimator-id-23\" class=\"sk-toggleable__label sk-toggleable__label-arrow\">clusterer: Pipeline</label><div class=\"sk-toggleable__content\"><pre>Pipeline(steps=[(&#x27;kmeans&#x27;,\n",
       "                 KMeans(max_iter=500, n_clusters=5, n_init=50,\n",
       "                        random_state=42))])</pre></div></div></div><div class=\"sk-serial\"><div class=\"sk-item\"><div class=\"sk-estimator sk-toggleable\"><input class=\"sk-toggleable__control sk-hidden--visually\" id=\"sk-estimator-id-24\" type=\"checkbox\" ><label for=\"sk-estimator-id-24\" class=\"sk-toggleable__label sk-toggleable__label-arrow\">KMeans</label><div class=\"sk-toggleable__content\"><pre>KMeans(max_iter=500, n_clusters=5, n_init=50, random_state=42)</pre></div></div></div></div></div></div></div></div></div>"
      ],
      "text/plain": [
       "Pipeline(steps=[('preprocessor',\n",
       "                 Pipeline(steps=[('scaler', MinMaxScaler()),\n",
       "                                 ('pca',\n",
       "                                  PCA(n_components=2, random_state=42))])),\n",
       "                ('clusterer',\n",
       "                 Pipeline(steps=[('kmeans',\n",
       "                                  KMeans(max_iter=500, n_clusters=5, n_init=50,\n",
       "                                         random_state=42))]))])"
      ]
     },
     "execution_count": 99,
     "metadata": {},
     "output_type": "execute_result"
    }
   ],
   "source": [
    "pipe.fit(data)"
   ]
  },
  {
   "cell_type": "code",
   "execution_count": 100,
   "id": "de3c6407",
   "metadata": {},
   "outputs": [],
   "source": [
    "preprocessed_data = pipe[\"preprocessor\"].transform(data)"
   ]
  },
  {
   "cell_type": "code",
   "execution_count": 101,
   "id": "d5f8c9ce",
   "metadata": {},
   "outputs": [
    {
     "data": {
      "text/plain": [
       "(array([[  5.,  47., 219., 235., 122.,  29.,   6.,  10.,  39.,  89.],\n",
       "        [ 64.,  61.,  52., 166., 182., 115.,  86.,  38.,  33.,   4.]]),\n",
       " array([-14.06170881, -10.79418939,  -7.52666997,  -4.25915055,\n",
       "         -0.99163113,   2.27588829,   5.5434077 ,   8.81092712,\n",
       "         12.07844654,  15.34596596,  18.61348538]),\n",
       " <a list of 2 BarContainer objects>)"
      ]
     },
     "execution_count": 101,
     "metadata": {},
     "output_type": "execute_result"
    },
    {
     "data": {
      "image/png": "[encoded data removed]",
      "text/plain": [
       "<Figure size 640x480 with 1 Axes>"
      ]
     },
     "metadata": {},
     "output_type": "display_data"
    }
   ],
   "source": [
    "plt.hist(preprocessed_data)"
   ]
  },
  {
   "cell_type": "code",
   "execution_count": 72,
   "id": "606dc23f",
   "metadata": {},
   "outputs": [],
   "source": [
    "predicted_labels = pipe\n",
    "clusterer\"][\"kmeans\"].labels_"
   ]
  },
  {
   "cell_type": "code",
   "execution_count": 73,
   "id": "0b344ca9",
   "metadata": {},
   "outputs": [
    {
     "data": {
      "text/plain": [
       "array([3, 2, 0, 3, 0, 3, 1, 3, 4, 3, 0, 1, 3, 0, 0, 0, 4, 1, 1, 3, 0, 4,\n",
       "       4, 0, 1, 4, 2, 0, 4, 0, 0, 0, 1, 0, 3, 0, 1, 4, 0, 0, 1, 3, 3, 1,\n",
       "       1, 0, 3, 2, 0, 4, 0, 4, 0, 3, 2, 2, 0, 2, 1, 0, 4, 4, 0, 4, 3, 2,\n",
       "       0, 3, 1, 4, 1, 0, 0, 4, 4, 2, 0, 4, 3, 2, 0, 3, 0, 0, 3, 3, 0, 0,\n",
       "       1, 2, 3, 3, 0, 0, 0, 3, 2, 0, 3, 0, 0, 1, 0, 1, 4, 1, 4, 2, 4, 4,\n",
       "       3, 0, 4, 3, 0, 1, 1, 1, 0, 0, 4, 1, 4, 0, 3, 3, 3, 0, 1, 2, 2, 0,\n",
       "       2, 4, 0, 1, 4, 0, 1, 2, 0, 3, 3, 1, 4, 2, 3, 0, 4, 4, 4, 4, 0, 0,\n",
       "       4, 0, 0, 3, 3, 4, 3, 0, 1, 0, 3, 4, 2, 1, 4, 3, 1, 4, 0, 4, 0, 0,\n",
       "       0, 3, 0, 1, 2, 1, 0, 3, 3, 3, 4, 4, 0, 4, 4, 1, 2, 3, 4, 3, 4, 0,\n",
       "       2, 4, 0, 1, 1, 1, 1, 3, 2, 3, 0, 4, 4, 0, 3, 0, 3, 0, 0, 0, 4, 0,\n",
       "       1, 4, 1, 1, 4, 0, 1, 3, 0, 4, 4, 3, 2, 0, 1, 3, 1, 2, 0, 1, 1, 4,\n",
       "       3, 0, 4, 4, 1, 0, 4, 2, 0, 3, 4, 0, 3, 1, 3, 3, 3, 0, 2, 2, 4, 2,\n",
       "       2, 3, 4, 2, 0, 1, 1, 0, 2, 3, 1, 3, 0, 0, 1, 0, 4, 0, 0, 4, 4, 0,\n",
       "       0, 0, 1, 1, 1, 1, 0, 4, 0, 1, 3, 3, 4, 3, 0, 0, 2, 4, 3, 0, 0, 0,\n",
       "       2, 0, 3, 0, 2, 2, 4, 3, 1, 0, 1, 1, 4, 2, 4, 3, 0, 2, 4, 1, 0, 0,\n",
       "       3, 2, 1, 0, 4, 3, 1, 0, 0, 2, 0, 0, 0, 4, 2, 4, 0, 0, 3, 4, 3, 1,\n",
       "       0, 2, 4, 4, 0, 1, 0, 0, 0, 2, 4, 2, 1, 3, 1, 0, 0, 1, 4, 2, 3, 4,\n",
       "       3, 0, 1, 3, 0, 2, 1, 1, 2, 2, 3, 0, 0, 4, 1, 4, 3, 2, 0, 0, 4, 4,\n",
       "       1, 4, 4, 1, 2, 3, 0, 4, 3, 0, 2, 3, 4, 0, 2, 3, 0, 3, 2, 0, 2, 0,\n",
       "       2, 4, 0, 0, 3, 1, 4, 3, 0, 3, 1, 0, 1, 2, 0, 3, 4, 1, 0, 0, 1, 0,\n",
       "       4, 4, 4, 3, 2, 0, 1, 4, 3, 0, 3, 0, 0, 4, 0, 1, 4, 0, 1, 0, 0, 2,\n",
       "       4, 1, 2, 3, 2, 0, 1, 1, 0, 3, 1, 4, 4, 4, 0, 3, 3, 4, 3, 4, 1, 3,\n",
       "       0, 4, 3, 4, 0, 0, 2, 4, 1, 2, 4, 0, 3, 4, 0, 3, 0, 2, 0, 2, 1, 0,\n",
       "       0, 2, 4, 4, 2, 1, 4, 4, 0, 0, 0, 3, 4, 3, 0, 1, 0, 1, 1, 3, 3, 4,\n",
       "       0, 1, 2, 2, 4, 1, 1, 0, 0, 3, 1, 2, 0, 4, 2, 4, 0, 0, 0, 1, 3, 4,\n",
       "       4, 0, 1, 2, 1, 1, 0, 3, 2, 1, 0, 2, 4, 4, 4, 3, 4, 1, 0, 0, 2, 3,\n",
       "       4, 0, 2, 1, 4, 4, 4, 3, 4, 4, 0, 1, 3, 2, 4, 3, 2, 0, 2, 1, 1, 2,\n",
       "       0, 1, 1, 2, 0, 4, 3, 3, 1, 0, 4, 4, 0, 2, 0, 3, 3, 4, 0, 2, 0, 1,\n",
       "       2, 4, 4, 0, 3, 0, 2, 1, 3, 4, 0, 0, 1, 4, 0, 0, 3, 2, 2, 4, 4, 4,\n",
       "       0, 2, 3, 0, 0, 1, 4, 4, 1, 1, 4, 1, 2, 3, 2, 1, 0, 0, 3, 3, 3, 4,\n",
       "       3, 3, 2, 0, 0, 2, 4, 1, 0, 1, 2, 0, 0, 0, 3, 4, 1, 0, 0, 1, 3, 0,\n",
       "       4, 1, 3, 4, 3, 3, 2, 1, 3, 4, 2, 2, 0, 0, 0, 4, 1, 1, 1, 0, 4, 1,\n",
       "       3, 0, 4, 3, 0, 3, 0, 1, 4, 4, 3, 3, 1, 3, 1, 0, 4, 4, 0, 0, 1, 0,\n",
       "       0, 3, 0, 1, 1, 3, 2, 1, 2, 0, 1, 0, 4, 0, 0, 3, 0, 3, 0, 2, 0, 0,\n",
       "       1, 4, 0, 4, 3, 0, 3, 4, 0, 0, 0, 4, 0, 4, 0, 4, 1, 1, 2, 4, 0, 0,\n",
       "       0, 4, 0, 4, 4, 0, 4, 1, 2, 4, 4, 1, 0, 3, 2, 0, 1, 0, 3, 4, 0, 0,\n",
       "       0, 0, 3, 4, 0, 4, 4, 3, 0])"
      ]
     },
     "execution_count": 73,
     "metadata": {},
     "output_type": "execute_result"
    }
   ],
   "source": [
    "predicted_labels"
   ]
  },
  {
   "cell_type": "code",
   "execution_count": 76,
   "id": "981a2c00",
   "metadata": {},
   "outputs": [
    {
     "data": {
      "text/plain": [
       "0.511877552845029"
      ]
     },
     "execution_count": 76,
     "metadata": {},
     "output_type": "execute_result"
    }
   ],
   "source": [
    "from sklearn.metrics import silhouette_score, adjusted_rand_score\n",
    "silhouette_score(preprocessed_data, predicted_labels)"
   ]
  },
  {
   "cell_type": "code",
   "execution_count": 77,
   "id": "b4281836",
   "metadata": {},
   "outputs": [],
   "source": [
    "# As True labels are present hence we are using adjusted rand score to compare the pred vs actual"
   ]
  },
  {
   "cell_type": "code",
   "execution_count": 78,
   "id": "b2af0f47",
   "metadata": {},
   "outputs": [
    {
     "data": {
      "text/plain": [
       "0.722276752060253"
      ]
     },
     "execution_count": 78,
     "metadata": {},
     "output_type": "execute_result"
    }
   ],
   "source": [
    "adjusted_rand_score(true_labels, predicted_labels)"
   ]
  },
  {
   "cell_type": "code",
   "execution_count": 104,
   "id": "7a4b9ca0",
   "metadata": {},
   "outputs": [],
   "source": [
    "#the scale for each of these clustering performance metrics ranges from -1 to 1. \n",
    "#A silhouette coefficient of 0 indicates that clusters are significantly overlapping one another, and a \n",
    "#silhouette coefficient of 1 indicates clusters are well-separated. \n",
    "#An ARI score of 0 indicates that cluster labels \n",
    "#are randomly assigned, and an ARI score of 1 means that the true labels and predicted labels form identical clusters."
   ]
  },
  {
   "cell_type": "code",
   "execution_count": null,
   "id": "2f2fb1e5",
   "metadata": {},
   "outputs": [],
   "source": [
    "# pcadf = pd.DataFrame(\n",
    "#     pipe[\"preprocessor\"].transform(data),\n",
    "#     columns=[\"component_1\", \"component_2\"],\n",
    "# )\n",
    "# pcadf[\"predicted_cluster\"] = pipe[\"clusterer\"][\"kmeans\"].labels_\n",
    "# pcadf[\"true_label\"] = label_encoder.inverse_transform(true_labels)\n",
    "\n",
    "# plt.style.use(\"fivethirtyeight\")\n",
    "# plt.figure(figsize=(8, 8))\n",
    "# scat = sns.scatterplot(\n",
    "#     \"component_1\",\n",
    "#     \"component_2\",\n",
    "#     s=50,\n",
    "#     data=pcadf,\n",
    "#     hue=\"predicted_cluster\",\n",
    "#     style=\"true_label\",\n",
    "#     palette=\"Set2\",\n",
    "# )\n",
    "# scat.set_title(\n",
    "#     \"Clustering results from TCGA Pan-Cancer\\nGene Expression Data\"\n",
    "# )\n",
    "# plt.legend(bbox_to_anchor=(1.05, 1), loc=2, borderaxespad=0.0)\n",
    "# plt.show()"
   ]
  },
  {
   "cell_type": "code",
   "execution_count": 105,
   "id": "c7d439b1",
   "metadata": {},
   "outputs": [
    {
     "name": "stderr",
     "output_type": "stream",
     "text": [
      "D:\\Anaconda\\lib\\site-packages\\sklearn\\cluster\\_kmeans.py:1382: UserWarning: KMeans is known to have a memory leak on Windows with MKL, when there are less chunks than available threads. You can avoid it by setting the environment variable OMP_NUM_THREADS=4.\n",
      "  warnings.warn(\n",
      "D:\\Anaconda\\lib\\site-packages\\sklearn\\cluster\\_kmeans.py:1382: UserWarning: KMeans is known to have a memory leak on Windows with MKL, when there are less chunks than available threads. You can avoid it by setting the environment variable OMP_NUM_THREADS=4.\n",
      "  warnings.warn(\n",
      "D:\\Anaconda\\lib\\site-packages\\sklearn\\cluster\\_kmeans.py:1382: UserWarning: KMeans is known to have a memory leak on Windows with MKL, when there are less chunks than available threads. You can avoid it by setting the environment variable OMP_NUM_THREADS=4.\n",
      "  warnings.warn(\n",
      "D:\\Anaconda\\lib\\site-packages\\sklearn\\cluster\\_kmeans.py:1382: UserWarning: KMeans is known to have a memory leak on Windows with MKL, when there are less chunks than available threads. You can avoid it by setting the environment variable OMP_NUM_THREADS=4.\n",
      "  warnings.warn(\n",
      "D:\\Anaconda\\lib\\site-packages\\sklearn\\cluster\\_kmeans.py:1382: UserWarning: KMeans is known to have a memory leak on Windows with MKL, when there are less chunks than available threads. You can avoid it by setting the environment variable OMP_NUM_THREADS=4.\n",
      "  warnings.warn(\n",
      "D:\\Anaconda\\lib\\site-packages\\sklearn\\cluster\\_kmeans.py:1382: UserWarning: KMeans is known to have a memory leak on Windows with MKL, when there are less chunks than available threads. You can avoid it by setting the environment variable OMP_NUM_THREADS=4.\n",
      "  warnings.warn(\n",
      "D:\\Anaconda\\lib\\site-packages\\sklearn\\cluster\\_kmeans.py:1382: UserWarning: KMeans is known to have a memory leak on Windows with MKL, when there are less chunks than available threads. You can avoid it by setting the environment variable OMP_NUM_THREADS=4.\n",
      "  warnings.warn(\n",
      "D:\\Anaconda\\lib\\site-packages\\sklearn\\cluster\\_kmeans.py:1382: UserWarning: KMeans is known to have a memory leak on Windows with MKL, when there are less chunks than available threads. You can avoid it by setting the environment variable OMP_NUM_THREADS=4.\n",
      "  warnings.warn(\n",
      "D:\\Anaconda\\lib\\site-packages\\sklearn\\cluster\\_kmeans.py:1382: UserWarning: KMeans is known to have a memory leak on Windows with MKL, when there are less chunks than available threads. You can avoid it by setting the environment variable OMP_NUM_THREADS=4.\n",
      "  warnings.warn(\n"
     ]
    }
   ],
   "source": [
    "#Hyper parameter tunning by changing the value to PCA n_component and checking Silhouette and ARI score\n",
    "silhouette_scores = []\n",
    "ari_scores = []\n",
    "for n in range(2, 11):\n",
    "    # This set the number of components for pca,\n",
    "    # but leaves other steps unchanged\n",
    "    pipe[\"preprocessor\"][\"pca\"].n_components = n\n",
    "    pipe.fit(data)\n",
    "    silhouette_coef = silhouette_score(\n",
    "        pipe[\"preprocessor\"].transform(data),\n",
    "        pipe[\"clusterer\"][\"kmeans\"].labels_,\n",
    "    )\n",
    "    ari = adjusted_rand_score(\n",
    "        true_labels,\n",
    "        pipe[\"clusterer\"][\"kmeans\"].labels_,\n",
    "    )\n",
    "    # Add metrics to their lists\n",
    "    silhouette_scores.append(silhouette_coef)\n",
    "    ari_scores.append(ari)"
   ]
  },
  {
   "cell_type": "code",
   "execution_count": 106,
   "id": "885733c2",
   "metadata": {},
   "outputs": [
    {
     "data": {
      "text/plain": [
       "[0.511877552845029,\n",
       " 0.5047270495704069,\n",
       " 0.47133548695193794,\n",
       " 0.46939987883449735,\n",
       " 0.44275560175959683,\n",
       " 0.4266922277902736,\n",
       " 0.40380691884278175,\n",
       " 0.390178822247916,\n",
       " 0.3772752581109923]"
      ]
     },
     "execution_count": 106,
     "metadata": {},
     "output_type": "execute_result"
    }
   ],
   "source": [
    "silhouette_scores"
   ]
  },
  {
   "cell_type": "code",
   "execution_count": 107,
   "id": "ee448c37",
   "metadata": {},
   "outputs": [
    {
     "data": {
      "text/plain": [
       "[0.722276752060253,\n",
       " 0.7458314873965364,\n",
       " 0.7252516114763512,\n",
       " 0.8591960195401789,\n",
       " 0.825156557127003,\n",
       " 0.9548332937934558,\n",
       " 0.8086619712734584,\n",
       " 0.8086619712734584,\n",
       " 0.8116720216397996]"
      ]
     },
     "execution_count": 107,
     "metadata": {},
     "output_type": "execute_result"
    }
   ],
   "source": [
    "ari_scores"
   ]
  },
  {
   "cell_type": "code",
   "execution_count": 110,
   "id": "0fb3b091",
   "metadata": {},
   "outputs": [
    {
     "data": {
      "image/png": "[encoded data removed]",
      "text/plain": [
       "<Figure size 600x600 with 1 Axes>"
      ]
     },
     "metadata": {},
     "output_type": "display_data"
    }
   ],
   "source": [
    "#graph representation between ARI and Silhouette \n",
    "plt.style.use(\"fivethirtyeight\")\n",
    "plt.figure(figsize=(6, 6))\n",
    "plt.plot(\n",
    "    range(2, 11),\n",
    "    silhouette_scores,\n",
    "    c=\"#008fd5\",\n",
    "    label=\"Silhouette Coefficient\",\n",
    ")\n",
    "plt.plot(range(2, 11), ari_scores, c=\"#fc4f30\", label=\"ARI\")\n",
    "plt.xlabel(\"n_components\")\n",
    "plt.legend()\n",
    "plt.title(\"Clustering Performance as a Function of n_components\")\n",
    "plt.tight_layout()"
   ]
  },
  {
   "cell_type": "code",
   "execution_count": null,
   "id": "df73ade8",
   "metadata": {},
   "outputs": [],
   "source": []
  }
 ],
 "metadata": {
  "kernelspec": {
   "display_name": "Python 3 (ipykernel)",
   "language": "python",
   "name": "python3"
  },
  "language_info": {
   "codemirror_mode": {
    "name": "ipython",
    "version": 3
   },
   "file_extension": ".py",
   "mimetype": "text/x-python",
   "name": "python",
   "nbconvert_exporter": "python",
   "pygments_lexer": "ipython3",
   "version": "3.10.9"
  }
 },
 "nbformat": 4,
 "nbformat_minor": 5
}
